{
 "cells": [
  {
   "cell_type": "code",
   "execution_count": 1,
   "metadata": {},
   "outputs": [],
   "source": [
    "import pandas as pd\n",
    "import math\n",
    "import numpy as np\n",
    "import pickle"
   ]
  },
  {
   "cell_type": "code",
   "execution_count": 2,
   "metadata": {},
   "outputs": [],
   "source": [
    "# Function to convert geographic coordinates to Cartesian coordinates\n",
    "def geo_to_cartesian(latitude, longitude):\n",
    "    # Earth radius in kilometers\n",
    "    R = 6371.0 \n",
    "    \n",
    "    # Convert latitude and longitude from degrees to radians\n",
    "    lat_rad = math.radians(latitude)\n",
    "    lon_rad = math.radians(longitude)\n",
    "    \n",
    "    # Convert to Cartesian coordinates\n",
    "    x = R * math.cos(lat_rad) * math.cos(lon_rad)\n",
    "    y = R * math.cos(lat_rad) * math.sin(lon_rad)\n",
    "    \n",
    "    return np.float64(x), np.float64(y)"
   ]
  },
  {
   "cell_type": "code",
   "execution_count": 3,
   "metadata": {},
   "outputs": [],
   "source": [
    "# Function to convert Cartesian coordinates to geographic coordinates\n",
    "def cartesian_to_geo(x, y):\n",
    "    # Earth radius in kilometers\n",
    "    R = 6371.0 \n",
    "    \n",
    "    # Convert to geographic coordinates\n",
    "    latitude = math.degrees(math.asin(y / R))\n",
    "    longitude = math.degrees(math.acos(x / (R * math.cos(math.radians(latitude)))))\n",
    "    \n",
    "    return latitude, longitude"
   ]
  },
  {
   "cell_type": "code",
   "execution_count": 4,
   "metadata": {},
   "outputs": [],
   "source": [
    "def get_data_boundaries(data):\n",
    "    num_points = len(data[0])\n",
    "    n_users = len(data)\n",
    "    x_min = min(point[0] for pointlist in data for point in pointlist)\n",
    "    y_min = min(point[1] for pointlist in data for point in pointlist)\n",
    "    x_max = max(point[0] for pointlist in data for point in pointlist)\n",
    "    y_max = max(point[1] for pointlist in data for point in pointlist)\n",
    "\n",
    "\n",
    "    return x_min, y_min, x_max, y_max, num_points, n_users"
   ]
  },
  {
   "cell_type": "code",
   "execution_count": 5,
   "metadata": {},
   "outputs": [],
   "source": [
    "#read kaggle dataset dataset\n",
    "df_kaggle = pd.read_csv('train.csv')"
   ]
  },
  {
   "cell_type": "code",
   "execution_count": 6,
   "metadata": {},
   "outputs": [],
   "source": [
    "#convert the str to a list. From each list get only the 20 firsts coordinates\n",
    "df_kaggle['POLYLINE'] = df_kaggle['POLYLINE'].apply(lambda x: eval(x)[:40])\n",
    "\n",
    "# df_kaggle['POLYLINE'] = df_kaggle['POLYLINE'].apply(lambda x: eval(x))"
   ]
  },
  {
   "cell_type": "code",
   "execution_count": 9,
   "metadata": {},
   "outputs": [],
   "source": [
    "#remove all rows where the length of the 'POLYLINE' is less than 40\n",
    "df_kaggle = df_kaggle[df_kaggle['POLYLINE'].apply(lambda x: len(x) == 40)]"
   ]
  },
  {
   "cell_type": "code",
   "execution_count": 12,
   "metadata": {},
   "outputs": [
    {
     "data": {
      "text/plain": [
       "910456"
      ]
     },
     "execution_count": 12,
     "metadata": {},
     "output_type": "execute_result"
    }
   ],
   "source": [
    "len(df_kaggle)"
   ]
  },
  {
   "cell_type": "code",
   "execution_count": 13,
   "metadata": {},
   "outputs": [],
   "source": [
    "#convert the column POLYLINE from longitude and latitude to cartesian coordinates, inverting the order of the coordinates to x and y\n",
    "df_kaggle['POLYLINE'] = df_kaggle['POLYLINE'].apply(lambda x: [geo_to_cartesian(x, y) for y, x in x])"
   ]
  },
  {
   "cell_type": "code",
   "execution_count": 10,
   "metadata": {},
   "outputs": [],
   "source": [
    "#df_kaggle['POLYLINE'].iloc[0]"
   ]
  },
  {
   "cell_type": "code",
   "execution_count": 11,
   "metadata": {},
   "outputs": [],
   "source": [
    "# calculate the euclidean distance btw (4743.744305381216, 4144.273614650897),(4743.74871634129, 4144.272212746029)\n",
    "#math.sqrt((4743.744305381216 - 4743.74871634129)**2 + (-719.002784051208 - -718.9912563855992)**2)"
   ]
  },
  {
   "cell_type": "code",
   "execution_count": 12,
   "metadata": {},
   "outputs": [],
   "source": [
    "# lat, lon = cartesian_to_geo(-2164.4891376291075,4374.242558587631)\n",
    "# print(lat, lon)\n",
    "# lat, lon = cartesian_to_geo(-2163.6552191141714,4374.030051225528)\n",
    "# print(lat, lon)"
   ]
  },
  {
   "cell_type": "code",
   "execution_count": 13,
   "metadata": {},
   "outputs": [],
   "source": [
    "# math.sqrt((-2164.4891376291075 - -2163.6552191141714)**2 + (4374.242558587631 - 4374.030051225528)**2)"
   ]
  },
  {
   "cell_type": "code",
   "execution_count": 14,
   "metadata": {},
   "outputs": [],
   "source": [
    "#create a list from the column 'POLYLINE' in df_kanggle\n",
    "list_kaggle = df_kaggle['POLYLINE'].tolist()"
   ]
  },
  {
   "cell_type": "code",
   "execution_count": 15,
   "metadata": {},
   "outputs": [],
   "source": [
    "#save the list in a pickl file\n",
    "\n",
    "with open('taxi_portugal.pkl', 'wb') as f:\n",
    "    pickle.dump(list_kaggle, f)"
   ]
  },
  {
   "cell_type": "code",
   "execution_count": 36,
   "metadata": {},
   "outputs": [],
   "source": [
    "#load pickle\n",
    "with open('taxi_portugal.pkl', 'rb') as f:\n",
    "    list_kaggle = pickle.load(f)"
   ]
  },
  {
   "cell_type": "code",
   "execution_count": 15,
   "metadata": {},
   "outputs": [
    {
     "data": {
      "text/plain": [
       "910456"
      ]
     },
     "execution_count": 15,
     "metadata": {},
     "output_type": "execute_result"
    }
   ],
   "source": [
    "len(list_kaggle)"
   ]
  },
  {
   "cell_type": "code",
   "execution_count": 8,
   "metadata": {},
   "outputs": [],
   "source": [
    "#load pickle\n",
    "# with open('../Taxi_Beijin/cartesian_trajectory_points_60s_170_100_20.pkl', 'rb') as f:\n",
    "#     list_geo = pickle.load(f)"
   ]
  },
  {
   "cell_type": "code",
   "execution_count": 10,
   "metadata": {},
   "outputs": [
    {
     "data": {
      "text/plain": [
       "20"
      ]
     },
     "execution_count": 10,
     "metadata": {},
     "output_type": "execute_result"
    }
   ],
   "source": [
    "#len(list_geo[0])"
   ]
  },
  {
   "cell_type": "code",
   "execution_count": 16,
   "metadata": {},
   "outputs": [],
   "source": [
    "#Porto Coordenates - Pontos Extremos\n",
    "porto_points = [(41.141602, -8.667482),(41.142652, -8.557375),(41.179378, -8.689936),(41.186604, -8.571467)]\n",
    "\n",
    "#convert all the lon,lat points on porto_points list to cartesian points\n",
    "porto_points = [geo_to_cartesian(x, y) for x, y in porto_points]\n"
   ]
  },
  {
   "cell_type": "code",
   "execution_count": 17,
   "metadata": {},
   "outputs": [
    {
     "data": {
      "text/plain": [
       "[(np.float64(4743.115961958049), np.float64(-723.0440017032093)),\n",
       " (np.float64(4744.420736821281), np.float64(-713.9162552355908)),\n",
       " (np.float64(4740.0993317758775), np.float64(-724.4850530093972)),\n",
       " (np.float64(4741.06403256535), np.float64(-714.6036759099666))]"
      ]
     },
     "execution_count": 17,
     "metadata": {},
     "output_type": "execute_result"
    }
   ],
   "source": [
    "porto_points"
   ]
  },
  {
   "cell_type": "code",
   "execution_count": 18,
   "metadata": {},
   "outputs": [
    {
     "name": "stdout",
     "output_type": "stream",
     "text": [
      "4740.0993317758775 4744.420736821281 -724.4850530093972 -713.9162552355908\n"
     ]
    }
   ],
   "source": [
    "x_min = min(point[0] for point in porto_points)\n",
    "x_max = max(point[0] for point in porto_points)\n",
    "y_min = min(point[1] for point in porto_points)\n",
    "Y_max = max(point[1] for point in porto_points)\n",
    "\n",
    "print(x_min, x_max, y_min, Y_max)"
   ]
  },
  {
   "cell_type": "code",
   "execution_count": 19,
   "metadata": {},
   "outputs": [],
   "source": [
    "new_list = []\n",
    "\n",
    "for tr in list_kaggle:\n",
    "    outside = False\n",
    "    for point in tr:\n",
    "        if point[0] < x_min or point[0] > x_max or point[1] < y_min or point[1] > Y_max:\n",
    "            outside = True\n",
    "            break\n",
    "    if not outside:\n",
    "        new_list.append(tr)\n",
    "\n",
    "list_kaggle = new_list"
   ]
  },
  {
   "cell_type": "code",
   "execution_count": 20,
   "metadata": {},
   "outputs": [
    {
     "data": {
      "text/plain": [
       "753388"
      ]
     },
     "execution_count": 20,
     "metadata": {},
     "output_type": "execute_result"
    }
   ],
   "source": [
    "len(list_kaggle)"
   ]
  },
  {
   "cell_type": "code",
   "execution_count": 21,
   "metadata": {},
   "outputs": [],
   "source": [
    "x_min, y_min, x_max, y_max, num_points, n_users = get_data_boundaries(list_kaggle)"
   ]
  },
  {
   "cell_type": "code",
   "execution_count": 22,
   "metadata": {},
   "outputs": [
    {
     "name": "stdout",
     "output_type": "stream",
     "text": [
      "4740.099341911621 -724.4850351942058 4744.420687481553 -713.9164216532397 40 753388\n"
     ]
    }
   ],
   "source": [
    "print(x_min, y_min, x_max, y_max, num_points, n_users)"
   ]
  },
  {
   "cell_type": "code",
   "execution_count": 23,
   "metadata": {},
   "outputs": [
    {
     "data": {
      "text/plain": [
       "11.41795164261344"
      ]
     },
     "execution_count": 23,
     "metadata": {},
     "output_type": "execute_result"
    }
   ],
   "source": [
    "math.sqrt((x_max - x_min)**2 + (y_max - y_min)**2)"
   ]
  },
  {
   "cell_type": "code",
   "execution_count": 24,
   "metadata": {},
   "outputs": [],
   "source": [
    "#save the list in a pickl file\n",
    "\n",
    "file_name = 'taxi_portugal_{}.pkl'.format(num_points)\n",
    "\n",
    "with open(file_name, 'wb') as f:\n",
    "    pickle.dump(list_kaggle, f)"
   ]
  },
  {
   "cell_type": "code",
   "execution_count": null,
   "metadata": {},
   "outputs": [],
   "source": []
  }
 ],
 "metadata": {
  "kernelspec": {
   "display_name": "Python 3",
   "language": "python",
   "name": "python3"
  },
  "language_info": {
   "codemirror_mode": {
    "name": "ipython",
    "version": 3
   },
   "file_extension": ".py",
   "mimetype": "text/x-python",
   "name": "python",
   "nbconvert_exporter": "python",
   "pygments_lexer": "ipython3",
   "version": "3.12.4"
  }
 },
 "nbformat": 4,
 "nbformat_minor": 2
}
